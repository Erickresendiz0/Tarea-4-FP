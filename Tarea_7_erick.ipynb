{
  "nbformat": 4,
  "nbformat_minor": 0,
  "metadata": {
    "colab": {
      "provenance": [],
      "authorship_tag": "ABX9TyNQlPCQmIMtUHPCX4iP+7vJ",
      "include_colab_link": true
    },
    "kernelspec": {
      "name": "python3",
      "display_name": "Python 3"
    },
    "language_info": {
      "name": "python"
    }
  },
  "cells": [
    {
      "cell_type": "markdown",
      "metadata": {
        "id": "view-in-github",
        "colab_type": "text"
      },
      "source": [
        "<a href=\"https://colab.research.google.com/github/Erickresendiz0/Tarea-4-FP/blob/main/Tarea_7_erick.ipynb\" target=\"_parent\"><img src=\"https://colab.research.google.com/assets/colab-badge.svg\" alt=\"Open In Colab\"/></a>"
      ]
    },
    {
      "cell_type": "code",
      "execution_count": 1,
      "metadata": {
        "colab": {
          "base_uri": "https://localhost:8080/"
        },
        "id": "c7Oyg-yg9cgV",
        "outputId": "5825a736-bc55-466e-d915-04ae1a224e69"
      },
      "outputs": [
        {
          "output_type": "stream",
          "name": "stdout",
          "text": [
            "Edad: 30\n",
            "Valor de pi: 3.1416\n",
            "¿Está activo? True\n",
            "Saludo: Hola mundo\n",
            "Lista de números: [10, 20, 30]\n",
            "Coordenadas: (19.43, -99.13)\n",
            "Frutas: {'pera', 'manzana', 'plátano'}\n",
            "Nombre: Ana\n",
            "Valor de nada: None\n",
            "Número complejo: (2+3j)\n",
            "Rango: 0\n",
            "Rango: 1\n",
            "Rango: 2\n",
            "Bytes: b'hola'\n",
            "Bytearray: bytearray(b'Hola')\n"
          ]
        }
      ],
      "source": [
        "# Enteros\n",
        "edad = 30\n",
        "print(\"Edad:\", edad)\n",
        "\n",
        "# Flotantes\n",
        "pi = 3.1416\n",
        "print(\"Valor de pi:\", pi)\n",
        "\n",
        "# Booleanos\n",
        "activo = True\n",
        "print(\"¿Está activo?\", activo)\n",
        "\n",
        "# Cadenas\n",
        "saludo = \"Hola mundo\"\n",
        "print(\"Saludo:\", saludo)\n",
        "\n",
        "# Listas\n",
        "numeros = [10, 20, 30]\n",
        "print(\"Lista de números:\", numeros)\n",
        "\n",
        "# Tuplas\n",
        "coordenadas = (19.43, -99.13)\n",
        "print(\"Coordenadas:\", coordenadas)\n",
        "\n",
        "# Conjuntos\n",
        "frutas = {\"manzana\", \"plátano\", \"pera\"}\n",
        "print(\"Frutas:\", frutas)\n",
        "\n",
        "# Diccionarios\n",
        "persona = {\"nombre\": \"Ana\", \"edad\": 25}\n",
        "print(\"Nombre:\", persona[\"nombre\"])\n",
        "\n",
        "# NoneType\n",
        "nada = None\n",
        "print(\"Valor de nada:\", nada)\n",
        "\n",
        "# Números complejos\n",
        "z = 2 + 3j\n",
        "print(\"Número complejo:\", z)\n",
        "\n",
        "# Rango\n",
        "for i in range(3):\n",
        "    print(\"Rango:\", i)\n",
        "\n",
        "# Bytes\n",
        "datos = b\"hola\"\n",
        "print(\"Bytes:\", datos)\n",
        "\n",
        "# Bytearray\n",
        "datos_mutables = bytearray(b\"hola\")\n",
        "datos_mutables[0] = 72  # Cambia 'h' por 'H'\n",
        "print(\"Bytearray:\", datos_mutables)"
      ]
    }
  ]
}