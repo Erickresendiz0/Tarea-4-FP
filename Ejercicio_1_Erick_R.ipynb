{
  "nbformat": 4,
  "nbformat_minor": 0,
  "metadata": {
    "colab": {
      "provenance": [],
      "authorship_tag": "ABX9TyNlTmTXR5RwunHLpB9mt9Xz",
      "include_colab_link": true
    },
    "kernelspec": {
      "name": "python3",
      "display_name": "Python 3"
    },
    "language_info": {
      "name": "python"
    }
  },
  "cells": [
    {
      "cell_type": "markdown",
      "metadata": {
        "id": "view-in-github",
        "colab_type": "text"
      },
      "source": [
        "<a href=\"https://colab.research.google.com/github/Erickresendiz0/Tarea-4-FP/blob/main/Ejercicio_1_Erick_R.ipynb\" target=\"_parent\"><img src=\"https://colab.research.google.com/assets/colab-badge.svg\" alt=\"Open In Colab\"/></a>"
      ]
    },
    {
      "cell_type": "code",
      "execution_count": null,
      "metadata": {
        "colab": {
          "base_uri": "https://localhost:8080/"
        },
        "id": "NRmr_KqM5fFN",
        "outputId": "453a42bf-9472-47fd-e85f-791a0f2f8ab2"
      },
      "outputs": [
        {
          "output_type": "stream",
          "name": "stdout",
          "text": [
            "Introduce la distancia:16\n",
            "Introduce el tiempo:14\n",
            "La velocidad es de: 1.1428571428571428 m/s\n"
          ]
        }
      ],
      "source": [
        "Distancia= input(\"Introduce la distancia:\")\n",
        "Tiempo= input(\"Introduce el tiempo:\")\n",
        "Velocidad= int(Distancia)/int(Tiempo)\n",
        "\n",
        "print(\"La velocidad es de:\",Velocidad,\"m/s\")"
      ]
    },
    {
      "cell_type": "markdown",
      "source": [],
      "metadata": {
        "id": "NkoB7_gz5xO5"
      }
    },
    {
      "cell_type": "markdown",
      "source": [],
      "metadata": {
        "id": "m1EbeEtU51SO"
      }
    }
  ]
}