{
  "nbformat": 4,
  "nbformat_minor": 0,
  "metadata": {
    "colab": {
      "provenance": [],
      "authorship_tag": "ABX9TyMvYJrtuhyKFLB8p6OLQ05b",
      "include_colab_link": true
    },
    "kernelspec": {
      "name": "python3",
      "display_name": "Python 3"
    },
    "language_info": {
      "name": "python"
    }
  },
  "cells": [
    {
      "cell_type": "markdown",
      "metadata": {
        "id": "view-in-github",
        "colab_type": "text"
      },
      "source": [
        "<a href=\"https://colab.research.google.com/github/Erickresendiz0/Tarea-4-FP/blob/main/maximo_comun_Erick_R.ipynb\" target=\"_parent\"><img src=\"https://colab.research.google.com/assets/colab-badge.svg\" alt=\"Open In Colab\"/></a>"
      ]
    },
    {
      "cell_type": "code",
      "execution_count": 2,
      "metadata": {
        "colab": {
          "base_uri": "https://localhost:8080/"
        },
        "id": "y1Cxd1QiD9-o",
        "outputId": "24f3f429-c4f2-49b3-8037-6870b3b313ac"
      },
      "outputs": [
        {
          "output_type": "stream",
          "name": "stdout",
          "text": [
            "Introduce el primer numero:19\n",
            "Introduce el segundo numero:20\n",
            "El maximo comun multiplo de 19 y 20 es de 380\n"
          ]
        }
      ],
      "source": [
        "def mcm(num1, num2):\n",
        "  \"\"\"Calcular el maximo comun multiplo (mcm) de dos numeros enteros\"\"\"\n",
        "  if num1 == 0 or num2 == 0:\n",
        "    return 0\n",
        "\n",
        "  # Start with the larger number\n",
        "  if num1 > num2:\n",
        "    mayor = num1\n",
        "  else:\n",
        "    mayor = num2\n",
        "\n",
        "  while(True):\n",
        "    if((mayor % num1 == 0) and (mayor % num2 == 0)):\n",
        "      mcm_result = mayor\n",
        "      break\n",
        "    mayor += 1\n",
        "\n",
        "  return mcm_result\n",
        "\n",
        "num1 = int(input(\"Introduce el primer numero:\"))\n",
        "num2 = int(input(\"Introduce el segundo numero:\"))\n",
        "print(\"El maximo comun multiplo de\", num1, \"y\", num2, \"es de\", mcm(num1, num2))"
      ]
    }
  ]
}